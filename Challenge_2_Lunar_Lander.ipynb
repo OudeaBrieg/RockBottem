{
 "cells": [
  {
   "cell_type": "markdown",
   "id": "6fb6c5d0",
   "metadata": {},
   "source": [
    "# Challenge 2 : Lunar Lander"
   ]
  },
  {
   "cell_type": "markdown",
   "id": "a4ae4b73",
   "metadata": {},
   "source": [
    "## Imports :"
   ]
  },
  {
   "cell_type": "code",
   "execution_count": 1,
   "id": "70d7c192",
   "metadata": {},
   "outputs": [],
   "source": [
    "import os\n",
    "\n",
    "# Reinforcement Learning\n",
    "import gym\n",
    "\n",
    "# Display\n",
    "from gym.wrappers.monitoring.video_recorder import VideoRecorder\n",
    "from IPython.display import Video\n",
    "\n",
    "# Optional\n",
    "import warnings\n",
    "warnings.filterwarnings('ignore')"
   ]
  },
  {
   "cell_type": "markdown",
   "id": "6f1f6f8b",
   "metadata": {},
   "source": [
    "## Context :"
   ]
  },
  {
   "cell_type": "code",
   "execution_count": 2,
   "id": "32d99e98",
   "metadata": {},
   "outputs": [],
   "source": [
    "env = gym.make(\"LunarLander-v2\", continuous=False,\n",
    "               gravity=-10.0, enable_wind=False,\n",
    "               wind_power=15.0, turbulence_power=1.5,\n",
    "               new_step_api=True)"
   ]
  },
  {
   "cell_type": "code",
   "execution_count": 3,
   "id": "af0ffe31",
   "metadata": {},
   "outputs": [
    {
     "data": {
      "text/plain": [
       "Discrete(4)"
      ]
     },
     "execution_count": 3,
     "metadata": {},
     "output_type": "execute_result"
    }
   ],
   "source": [
    "env.action_space"
   ]
  },
  {
   "cell_type": "code",
   "execution_count": 4,
   "id": "0cdcb01d",
   "metadata": {},
   "outputs": [
    {
     "data": {
      "text/plain": [
       "array([-0.00321531,  1.4131839 , -0.3256903 ,  0.10061827,  0.0037325 ,\n",
       "        0.07377364,  0.        ,  0.        ], dtype=float32)"
      ]
     },
     "execution_count": 4,
     "metadata": {},
     "output_type": "execute_result"
    }
   ],
   "source": [
    "env.reset()"
   ]
  },
  {
   "cell_type": "markdown",
   "id": "95d2ea98",
   "metadata": {},
   "source": [
    "## Random Action :"
   ]
  },
  {
   "cell_type": "code",
   "execution_count": 5,
   "id": "97711162",
   "metadata": {},
   "outputs": [],
   "source": [
    "def check_video_folder_sanity(path, video_name):\n",
    "    video_path = path + video_name\n",
    "    os.makedirs(path, exist_ok=True)\n",
    "    if os.path.exists(video_path + \".mp4\"):\n",
    "        os.remove(video_path + \".mp4\")\n",
    "    if os.path.exists(video_path + \".meta.json\"):\n",
    "        os.remove(video_path + \".meta.json\")\n",
    "    return video_path"
   ]
  },
  {
   "cell_type": "code",
   "execution_count": 6,
   "id": "fc625d3d",
   "metadata": {},
   "outputs": [],
   "source": [
    "video_name = \"before_training\"\n",
    "path = \"videos/lunar_lander/\"\n",
    "random_seed = 42\n",
    "\n",
    "video_path = check_video_folder_sanity(path, video_name)\n",
    "    \n",
    "env = gym.make(\"LunarLander-v2\", continuous=False,\n",
    "               gravity=-10.0, enable_wind=False,\n",
    "               wind_power=15.0, turbulence_power=1.5,\n",
    "               new_step_api=True)\n",
    "video = VideoRecorder(env, video_path + \".mp4\", enabled=video_name is not None)\n",
    "\n",
    "env.reset()\n",
    "for i in range(200):\n",
    "    env.render()\n",
    "    video.capture_frame()\n",
    "    observation, reward, done, info, _ = env.step(env.action_space.sample())\n",
    "    #print(\"step\", i, observation, reward, done, info)\n",
    "video.close()\n",
    "env.close()"
   ]
  },
  {
   "cell_type": "code",
   "execution_count": 7,
   "id": "37cddf2f",
   "metadata": {},
   "outputs": [
    {
     "data": {
      "text/html": [
       "<video src=\"videos/lunar_lander/before_training.mp4\" controls  >\n",
       "      Your browser does not support the <code>video</code> element.\n",
       "    </video>"
      ],
      "text/plain": [
       "<IPython.core.display.Video object>"
      ]
     },
     "execution_count": 7,
     "metadata": {},
     "output_type": "execute_result"
    }
   ],
   "source": [
    "Video(video_path + \".mp4\")"
   ]
  }
 ],
 "metadata": {
  "kernelspec": {
   "display_name": "Python 3 (ipykernel)",
   "language": "python",
   "name": "python3"
  },
  "language_info": {
   "codemirror_mode": {
    "name": "ipython",
    "version": 3
   },
   "file_extension": ".py",
   "mimetype": "text/x-python",
   "name": "python",
   "nbconvert_exporter": "python",
   "pygments_lexer": "ipython3",
   "version": "3.8.13"
  }
 },
 "nbformat": 4,
 "nbformat_minor": 5
}
