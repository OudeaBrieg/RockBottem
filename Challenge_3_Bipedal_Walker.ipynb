{
 "cells": [
  {
   "cell_type": "markdown",
   "id": "1c503c38",
   "metadata": {},
   "source": [
    "# Challenge 3 : Bipedal Walker"
   ]
  },
  {
   "cell_type": "markdown",
   "id": "efd7ebb6",
   "metadata": {},
   "source": [
    "## Imports :"
   ]
  },
  {
   "cell_type": "code",
   "execution_count": 1,
   "id": "2763cdb6",
   "metadata": {},
   "outputs": [],
   "source": [
    "import os\n",
    "\n",
    "# Reinforcement Learning\n",
    "import gym\n",
    "\n",
    "# Distributed Learning\n",
    "import ray\n",
    "from ray.rllib.agents.ppo import PPOTrainer\n",
    "\n",
    "# Display\n",
    "from gym.wrappers.monitoring.video_recorder import VideoRecorder\n",
    "from IPython.display import Video\n",
    "\n",
    "# Optional\n",
    "import warnings\n",
    "warnings.filterwarnings('ignore')"
   ]
  },
  {
   "cell_type": "markdown",
   "id": "30a44285",
   "metadata": {},
   "source": [
    "## Context :"
   ]
  },
  {
   "cell_type": "code",
   "execution_count": 2,
   "id": "23985165",
   "metadata": {},
   "outputs": [],
   "source": [
    "env = gym.make(\"BipedalWalker-v3\", hardcore=False)"
   ]
  },
  {
   "cell_type": "code",
   "execution_count": 3,
   "id": "32133d50",
   "metadata": {},
   "outputs": [
    {
     "data": {
      "text/plain": [
       "Box(-1.0, 1.0, (4,), float32)"
      ]
     },
     "execution_count": 3,
     "metadata": {},
     "output_type": "execute_result"
    }
   ],
   "source": [
    "env.action_space"
   ]
  },
  {
   "cell_type": "code",
   "execution_count": 4,
   "id": "01659dfe",
   "metadata": {},
   "outputs": [
    {
     "data": {
      "text/plain": [
       "array([ 2.7458975e-03,  1.0137333e-05, -1.3218448e-03, -1.6000068e-02,\n",
       "        9.2476480e-02,  3.0685817e-03,  8.5980362e-01, -1.0371268e-03,\n",
       "        1.0000000e+00,  3.2795932e-02,  3.0684697e-03,  8.5354102e-01,\n",
       "       -2.0879239e-03,  1.0000000e+00,  4.4081339e-01,  4.4581950e-01,\n",
       "        4.6142212e-01,  4.8954949e-01,  5.3410202e-01,  6.0246021e-01,\n",
       "        7.0914787e-01,  8.8593054e-01,  1.0000000e+00,  1.0000000e+00],\n",
       "      dtype=float32)"
      ]
     },
     "execution_count": 4,
     "metadata": {},
     "output_type": "execute_result"
    }
   ],
   "source": [
    "env.reset()"
   ]
  },
  {
   "cell_type": "markdown",
   "id": "5de7460e",
   "metadata": {},
   "source": [
    "## Random Action :"
   ]
  },
  {
   "cell_type": "code",
   "execution_count": 5,
   "id": "42150562",
   "metadata": {},
   "outputs": [],
   "source": [
    "def check_video_folder_sanity(path, video_name):\n",
    "    video_path = path + video_name\n",
    "    os.makedirs(path, exist_ok=True)\n",
    "    if os.path.exists(video_path + \".mp4\"):\n",
    "        os.remove(video_path + \".mp4\")\n",
    "    if os.path.exists(video_path + \".meta.json\"):\n",
    "        os.remove(video_path + \".meta.json\")\n",
    "    return video_path"
   ]
  },
  {
   "cell_type": "code",
   "execution_count": 6,
   "id": "7c012761",
   "metadata": {},
   "outputs": [],
   "source": [
    "video_name = \"before_training\"\n",
    "path = \"videos/bipedal_walker/\"\n",
    "random_seed = 42\n",
    "\n",
    "video_path = check_video_folder_sanity(path, video_name)\n",
    "        \n",
    "env = gym.make(\"BipedalWalker-v3\", hardcore=False)\n",
    "env.action_space.seed(random_seed)\n",
    "video = VideoRecorder(env, video_path + \".mp4\", enabled=video_name is not None)\n",
    "\n",
    "env.reset()\n",
    "for i in range(200):\n",
    "    env.render()\n",
    "    video.capture_frame()\n",
    "    observation, reward, done, info, _ = env.step(env.action_space.sample())\n",
    "    #print(\"step\", i, observation, reward, done, info)\n",
    "video.close()\n",
    "env.close()"
   ]
  },
  {
   "cell_type": "code",
   "execution_count": 7,
   "id": "49493efb",
   "metadata": {},
   "outputs": [
    {
     "ename": "ValueError",
     "evalue": "To embed videos, you must pass embed=True (this may make your notebook files huge)\nConsider passing Video(url='...')",
     "output_type": "error",
     "traceback": [
      "\u001b[1;31m---------------------------------------------------------------------------\u001b[0m",
      "\u001b[1;31mValueError\u001b[0m                                Traceback (most recent call last)",
      "Input \u001b[1;32mIn [7]\u001b[0m, in \u001b[0;36m<cell line: 1>\u001b[1;34m()\u001b[0m\n\u001b[1;32m----> 1\u001b[0m \u001b[43mVideo\u001b[49m\u001b[43m(\u001b[49m\u001b[43mvideo_path\u001b[49m\u001b[43m \u001b[49m\u001b[38;5;241;43m+\u001b[39;49m\u001b[43m \u001b[49m\u001b[38;5;124;43m\"\u001b[39;49m\u001b[38;5;124;43m.mp4\u001b[39;49m\u001b[38;5;124;43m\"\u001b[39;49m\u001b[43m)\u001b[49m\n",
      "File \u001b[1;32m~\\anaconda3\\envs\\Hackathon\\lib\\site-packages\\IPython\\core\\display.py:1149\u001b[0m, in \u001b[0;36mVideo.__init__\u001b[1;34m(self, data, url, filename, embed, mimetype, width, height, html_attributes)\u001b[0m\n\u001b[0;32m   1143\u001b[0m \u001b[38;5;28;01mif\u001b[39;00m data \u001b[38;5;129;01mand\u001b[39;00m \u001b[38;5;129;01mnot\u001b[39;00m embed:\n\u001b[0;32m   1144\u001b[0m     msg \u001b[38;5;241m=\u001b[39m \u001b[38;5;124m'\u001b[39m\u001b[38;5;124m'\u001b[39m\u001b[38;5;241m.\u001b[39mjoin([\n\u001b[0;32m   1145\u001b[0m         \u001b[38;5;124m\"\u001b[39m\u001b[38;5;124mTo embed videos, you must pass embed=True \u001b[39m\u001b[38;5;124m\"\u001b[39m,\n\u001b[0;32m   1146\u001b[0m         \u001b[38;5;124m\"\u001b[39m\u001b[38;5;124m(this may make your notebook files huge)\u001b[39m\u001b[38;5;130;01m\\n\u001b[39;00m\u001b[38;5;124m\"\u001b[39m,\n\u001b[0;32m   1147\u001b[0m         \u001b[38;5;124m\"\u001b[39m\u001b[38;5;124mConsider passing Video(url=\u001b[39m\u001b[38;5;124m'\u001b[39m\u001b[38;5;124m...\u001b[39m\u001b[38;5;124m'\u001b[39m\u001b[38;5;124m)\u001b[39m\u001b[38;5;124m\"\u001b[39m,\n\u001b[0;32m   1148\u001b[0m     ])\n\u001b[1;32m-> 1149\u001b[0m     \u001b[38;5;28;01mraise\u001b[39;00m \u001b[38;5;167;01mValueError\u001b[39;00m(msg)\n\u001b[0;32m   1151\u001b[0m \u001b[38;5;28mself\u001b[39m\u001b[38;5;241m.\u001b[39mmimetype \u001b[38;5;241m=\u001b[39m mimetype\n\u001b[0;32m   1152\u001b[0m \u001b[38;5;28mself\u001b[39m\u001b[38;5;241m.\u001b[39membed \u001b[38;5;241m=\u001b[39m embed\n",
      "\u001b[1;31mValueError\u001b[0m: To embed videos, you must pass embed=True (this may make your notebook files huge)\nConsider passing Video(url='...')"
     ]
    }
   ],
   "source": [
    "Video(video_path + \".mp4\")"
   ]
  },
  {
   "cell_type": "markdown",
   "id": "d33409e5",
   "metadata": {},
   "source": [
    "## Train an agent :"
   ]
  },
  {
   "cell_type": "code",
   "execution_count": null,
   "id": "d73f3cac",
   "metadata": {},
   "outputs": [],
   "source": [
    "os.cpu_count()"
   ]
  },
  {
   "cell_type": "code",
   "execution_count": null,
   "id": "f6ef4e9e",
   "metadata": {},
   "outputs": [],
   "source": [
    "config = {\n",
    "    \"env\": \"BipedalWalker-v3\",\n",
    "    # “tf” to use tensorflow, \"torch\" to use pytorch\n",
    "    \"framework\": \"tf\",\n",
    "    \"model\": {\n",
    "        \"fcnet_hiddens\": [32],\n",
    "        \"fcnet_activation\": \"linear\",\n",
    "    },\n",
    "}\n",
    "stop = {\"episode_reward_mean\": 300}\n",
    "ray.shutdown()\n",
    "ray.init(num_cpus=4, include_dashboard=False,\n",
    "         ignore_reinit_error=True, log_to_driver=False)\n",
    "# Start Training \n",
    "analysis = ray.tune.run(\"PPO\", config=config,\n",
    "                        stop=stop, checkpoint_at_end=True)"
   ]
  },
  {
   "cell_type": "code",
   "execution_count": null,
   "id": "0e7b5343",
   "metadata": {},
   "outputs": [],
   "source": [
    "# restore a trainer from the last checkpoint\n",
    "trial = analysis.get_best_logdir(\"episode_reward_mean\", \"max\")\n",
    "checkpoint = analysis.get_best_checkpoint(\n",
    "  trial,\n",
    "  \"training_iteration\",\n",
    "  \"max\",\n",
    ")\n",
    "trainer = PPOTrainer(config=config)\n",
    "trainer.restore(checkpoint)"
   ]
  },
  {
   "cell_type": "markdown",
   "id": "93680a6e",
   "metadata": {},
   "source": [
    "## Evaluate the Agent :"
   ]
  },
  {
   "cell_type": "code",
   "execution_count": null,
   "id": "2bef1d94",
   "metadata": {},
   "outputs": [],
   "source": [
    "video_name = \"after_training\"\n",
    "video_path = check_video_folder_sanity(path, video_name)\n",
    "\n",
    "after_video = VideoRecorder(env, video_path + \".mp4\", enabled=video_name is not None)\n",
    "observation = env.reset()\n",
    "done = False\n",
    "while not done:\n",
    "    env.render()\n",
    "    after_video.capture_frame()\n",
    "    action = trainer.compute_single_action(observation)\n",
    "    observation, reward, done, info = env.step(action)\n",
    "after_video.close()\n",
    "env.close()"
   ]
  },
  {
   "cell_type": "code",
   "execution_count": null,
   "id": "f6520673",
   "metadata": {},
   "outputs": [],
   "source": [
    "Video(video_path + \".mp4\")"
   ]
  }
 ],
 "metadata": {
  "kernelspec": {
   "display_name": "Python 3 (ipykernel)",
   "language": "python",
   "name": "python3"
  },
  "language_info": {
   "codemirror_mode": {
    "name": "ipython",
    "version": 3
   },
   "file_extension": ".py",
   "mimetype": "text/x-python",
   "name": "python",
   "nbconvert_exporter": "python",
   "pygments_lexer": "ipython3",
   "version": "3.8.13"
  }
 },
 "nbformat": 4,
 "nbformat_minor": 5
}
