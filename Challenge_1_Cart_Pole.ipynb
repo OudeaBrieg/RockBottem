{
 "cells": [
  {
   "cell_type": "markdown",
   "id": "8103ce09",
   "metadata": {},
   "source": [
    "# Challenge 1 : Cart Pole"
   ]
  },
  {
   "cell_type": "markdown",
   "id": "d5f58ed7",
   "metadata": {},
   "source": [
    "## Imports :"
   ]
  },
  {
   "cell_type": "code",
   "execution_count": 1,
   "id": "8f4b0292",
   "metadata": {},
   "outputs": [],
   "source": [
    "import os\n",
    "\n",
    "# Reinforcement Learning\n",
    "import gym\n",
    "\n",
    "# Display\n",
    "from gym.wrappers.monitoring.video_recorder import VideoRecorder\n",
    "from IPython.display import Video\n",
    "\n",
    "# Optional\n",
    "import warnings\n",
    "warnings.filterwarnings('ignore')"
   ]
  },
  {
   "cell_type": "markdown",
   "id": "f0747a1e",
   "metadata": {},
   "source": [
    "## Context :"
   ]
  },
  {
   "cell_type": "code",
   "execution_count": 2,
   "id": "11b1204a",
   "metadata": {},
   "outputs": [],
   "source": [
    "env = gym.make(\"CartPole-v1\", new_step_api=True, render_mode=\"human\")"
   ]
  },
  {
   "cell_type": "code",
   "execution_count": 3,
   "id": "4006140e",
   "metadata": {},
   "outputs": [
    {
     "data": {
      "text/plain": [
       "Discrete(2)"
      ]
     },
     "execution_count": 3,
     "metadata": {},
     "output_type": "execute_result"
    }
   ],
   "source": [
    "env.action_space"
   ]
  },
  {
   "cell_type": "code",
   "execution_count": 4,
   "id": "62de9aeb",
   "metadata": {},
   "outputs": [
    {
     "data": {
      "text/plain": [
       "array([ 0.04678972, -0.02647834,  0.00779791,  0.02590191], dtype=float32)"
      ]
     },
     "execution_count": 4,
     "metadata": {},
     "output_type": "execute_result"
    }
   ],
   "source": [
    "env.reset()"
   ]
  },
  {
   "cell_type": "markdown",
   "id": "32789dd3",
   "metadata": {},
   "source": [
    "## Random Action :"
   ]
  },
  {
   "cell_type": "code",
   "execution_count": 5,
   "id": "0714fbca",
   "metadata": {},
   "outputs": [],
   "source": [
    "def check_video_folder_sanity(path, video_name):\n",
    "    video_path = path + video_name\n",
    "    os.makedirs(path, exist_ok=True)\n",
    "    if os.path.exists(video_path + \".mp4\"):\n",
    "        os.remove(video_path + \".mp4\")\n",
    "    if os.path.exists(video_path + \".meta.json\"):\n",
    "        os.remove(video_path + \".meta.json\")\n",
    "    return video_path"
   ]
  },
  {
   "cell_type": "code",
   "execution_count": 6,
   "id": "3e277230",
   "metadata": {},
   "outputs": [],
   "source": [
    "video_name = \"before_training\"\n",
    "path = \"videos/cart_pole/\"\n",
    "random_seed = 42\n",
    "\n",
    "video_path = check_video_folder_sanity(path, video_name)\n",
    "    \n",
    "env = gym.make(\"CartPole-v1\", new_step_api=True)\n",
    "env.action_space.seed(random_seed)\n",
    "video = VideoRecorder(env, video_path + \".mp4\", enabled=video_name is not None)\n",
    "env.reset()\n",
    "for i in range(200):\n",
    "    env.render()\n",
    "    video.capture_frame()\n",
    "    observation, reward, done, info, _ = env.step(env.action_space.sample())\n",
    "    #print(\"step\", i, observation, reward, done, info)\n",
    "    \n",
    "video.close()\n",
    "env.close()"
   ]
  },
  {
   "cell_type": "code",
   "execution_count": 7,
   "id": "b4812eae",
   "metadata": {},
   "outputs": [
    {
     "data": {
      "text/html": [
       "<video src=\"videos/cart_pole/before_training.mp4\" controls  >\n",
       "      Your browser does not support the <code>video</code> element.\n",
       "    </video>"
      ],
      "text/plain": [
       "<IPython.core.display.Video object>"
      ]
     },
     "execution_count": 7,
     "metadata": {},
     "output_type": "execute_result"
    }
   ],
   "source": [
    "Video(video_path + \".mp4\")"
   ]
  }
 ],
 "metadata": {
  "kernelspec": {
   "display_name": "Python 3 (ipykernel)",
   "language": "python",
   "name": "python3"
  },
  "language_info": {
   "codemirror_mode": {
    "name": "ipython",
    "version": 3
   },
   "file_extension": ".py",
   "mimetype": "text/x-python",
   "name": "python",
   "nbconvert_exporter": "python",
   "pygments_lexer": "ipython3",
   "version": "3.8.13"
  }
 },
 "nbformat": 4,
 "nbformat_minor": 5
}
